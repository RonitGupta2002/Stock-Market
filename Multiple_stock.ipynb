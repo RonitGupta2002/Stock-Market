{
 "cells": [
  {
   "cell_type": "code",
   "execution_count": 1,
   "metadata": {},
   "outputs": [
    {
     "name": "stderr",
     "output_type": "stream",
     "text": [
      "C:\\Users\\ronit\\AppData\\Local\\Temp\\ipykernel_18680\\3119446753.py:2: UserWarning: \n",
      "The dash_core_components package is deprecated. Please replace\n",
      "`import dash_core_components as dcc` with `from dash import dcc`\n",
      "  import dash_core_components as dcc\n",
      "C:\\Users\\ronit\\AppData\\Local\\Temp\\ipykernel_18680\\3119446753.py:3: UserWarning: \n",
      "The dash_html_components package is deprecated. Please replace\n",
      "`import dash_html_components as html` with `from dash import html`\n",
      "  import dash_html_components as html\n"
     ]
    }
   ],
   "source": [
    "import dash\n",
    "import dash_core_components as dcc\n",
    "import dash_html_components as html\n",
    "import pandas as pd\n",
    "import plotly.graph_objs as go\n",
    "from dash.dependencies import Input, Output\n",
    "from keras.models import load_model\n",
    "from sklearn.preprocessing import MinMaxScaler\n",
    "import numpy as np"
   ]
  },
  {
   "cell_type": "code",
   "execution_count": 2,
   "metadata": {},
   "outputs": [],
   "source": [
    "app = dash.Dash()\n",
    "server = app.server\n",
    "scaler = MinMaxScaler(feature_range=(0, 1))"
   ]
  },
  {
   "cell_type": "code",
   "execution_count": 3,
   "metadata": {},
   "outputs": [
    {
     "name": "stderr",
     "output_type": "stream",
     "text": [
      "C:\\Users\\ronit\\AppData\\Local\\Temp\\ipykernel_18680\\936679006.py:8: FutureWarning:\n",
      "\n",
      "Series.__getitem__ treating keys as positions is deprecated. In a future version, integer keys will always be treated as labels (consistent with DataFrame behavior). To access a value by position, use `ser.iloc[pos]`\n",
      "\n",
      "C:\\Users\\ronit\\AppData\\Local\\Temp\\ipykernel_18680\\936679006.py:8: FutureWarning:\n",
      "\n",
      "ChainedAssignmentError: behaviour will change in pandas 3.0!\n",
      "You are setting values through chained assignment. Currently this works in certain cases, but when using Copy-on-Write (which will become the default behaviour in pandas 3.0) this will never work to update the original DataFrame or Series, because the intermediate object on which we are setting values will behave as a copy.\n",
      "A typical example is when you are setting values in a column of a DataFrame, like:\n",
      "\n",
      "df[\"col\"][row_indexer] = value\n",
      "\n",
      "Use `df.loc[row_indexer, \"col\"] = values` instead, to perform the assignment in a single step and ensure this keeps updating the original `df`.\n",
      "\n",
      "See the caveats in the documentation: https://pandas.pydata.org/pandas-docs/stable/user_guide/indexing.html#returning-a-view-versus-a-copy\n",
      "\n",
      "\n",
      "C:\\Users\\ronit\\AppData\\Local\\Temp\\ipykernel_18680\\936679006.py:9: FutureWarning:\n",
      "\n",
      "Series.__getitem__ treating keys as positions is deprecated. In a future version, integer keys will always be treated as labels (consistent with DataFrame behavior). To access a value by position, use `ser.iloc[pos]`\n",
      "\n",
      "C:\\Users\\ronit\\AppData\\Local\\Temp\\ipykernel_18680\\936679006.py:9: FutureWarning:\n",
      "\n",
      "ChainedAssignmentError: behaviour will change in pandas 3.0!\n",
      "You are setting values through chained assignment. Currently this works in certain cases, but when using Copy-on-Write (which will become the default behaviour in pandas 3.0) this will never work to update the original DataFrame or Series, because the intermediate object on which we are setting values will behave as a copy.\n",
      "A typical example is when you are setting values in a column of a DataFrame, like:\n",
      "\n",
      "df[\"col\"][row_indexer] = value\n",
      "\n",
      "Use `df.loc[row_indexer, \"col\"] = values` instead, to perform the assignment in a single step and ensure this keeps updating the original `df`.\n",
      "\n",
      "See the caveats in the documentation: https://pandas.pydata.org/pandas-docs/stable/user_guide/indexing.html#returning-a-view-versus-a-copy\n",
      "\n",
      "\n",
      "c:\\Users\\ronit\\AppData\\Local\\Programs\\Python\\Python312\\Lib\\site-packages\\pandas\\core\\indexes\\base.py:7631: FutureWarning:\n",
      "\n",
      "Dtype inference on a pandas object (Series, Index, ExtensionArray) is deprecated. The Index constructor will keep the original dtype in the future. Call `infer_objects` on the result to get the old behavior.\n",
      "\n"
     ]
    }
   ],
   "source": [
    "df_nse = pd.read_csv(r\"NSE-Tata-Global-Beverages-Limited\\NSE-Tata-Global-Beverages-Limited.csv\")\n",
    "df_nse[\"Date\"] = pd.to_datetime(df_nse.Date, format=\"%Y-%m-%d\")\n",
    "df_nse.index = df_nse['Date']\n",
    "data = df_nse.sort_index(ascending=True, axis=0)\n",
    "new_data = pd.DataFrame(index=range(0, len(df_nse)), columns=['Date', 'Close'])\n",
    "\n",
    "for i in range(0, len(data)):\n",
    "    new_data[\"Date\"][i] = data['Date'][i]\n",
    "    new_data[\"Close\"][i] = data[\"Close\"][i]\n",
    "\n",
    "new_data.index = new_data.Date\n",
    "new_data.drop(\"Date\", axis=1, inplace=True)\n",
    "dataset = new_data.values"
   ]
  },
  {
   "cell_type": "code",
   "execution_count": 4,
   "metadata": {},
   "outputs": [],
   "source": [
    "train = dataset[0:987, :]\n",
    "valid = dataset[987:, :]\n",
    "scaler = MinMaxScaler(feature_range=(0, 1))\n",
    "scaled_data = scaler.fit_transform(dataset)\n",
    "x_train, y_train = [], []\n",
    "\n",
    "for i in range(60, len(train)):\n",
    "    x_train.append(scaled_data[i - 60:i, 0])\n",
    "    y_train.append(scaled_data[i, 0])\n",
    "\n",
    "x_train, y_train = np.array(x_train), np.array(y_train)\n",
    "x_train = np.reshape(x_train, (x_train.shape[0], x_train.shape[1], 1))\n"
   ]
  },
  {
   "cell_type": "code",
   "execution_count": 6,
   "metadata": {},
   "outputs": [
    {
     "name": "stderr",
     "output_type": "stream",
     "text": [
      "WARNING:absl:Compiled the loaded model, but the compiled metrics have yet to be built. `model.compile_metrics` will be empty until you train or evaluate the model.\n"
     ]
    },
    {
     "name": "stdout",
     "output_type": "stream",
     "text": [
      "\u001b[1m8/8\u001b[0m \u001b[32m━━━━━━━━━━━━━━━━━━━━\u001b[0m\u001b[37m\u001b[0m \u001b[1m2s\u001b[0m 150ms/step\n"
     ]
    },
    {
     "name": "stderr",
     "output_type": "stream",
     "text": [
      "C:\\Users\\ronit\\AppData\\Local\\Temp\\ipykernel_18680\\3810387285.py:16: SettingWithCopyWarning:\n",
      "\n",
      "\n",
      "A value is trying to be set on a copy of a slice from a DataFrame.\n",
      "Try using .loc[row_indexer,col_indexer] = value instead\n",
      "\n",
      "See the caveats in the documentation: https://pandas.pydata.org/pandas-docs/stable/user_guide/indexing.html#returning-a-view-versus-a-copy\n",
      "\n"
     ]
    }
   ],
   "source": [
    "model = load_model(\"stock_tata.h5\")\n",
    "inputs = new_data[len(new_data) - len(valid) - 60:].values\n",
    "inputs = inputs.reshape(-1, 1)\n",
    "inputs = scaler.transform(inputs)\n",
    "X_test = []\n",
    "\n",
    "for i in range(60, inputs.shape[0]):\n",
    "    X_test.append(inputs[i - 60:i, 0])\n",
    "\n",
    "X_test = np.array(X_test)\n",
    "X_test = np.reshape(X_test, (X_test.shape[0], X_test.shape[1], 1))\n",
    "closing_price = model.predict(X_test)\n",
    "closing_price = scaler.inverse_transform(closing_price)\n",
    "train = new_data[:987]\n",
    "valid = new_data[987:]\n",
    "valid['Predictions'] = closing_price\n"
   ]
  },
  {
   "cell_type": "code",
   "execution_count": 7,
   "metadata": {},
   "outputs": [],
   "source": [
    "df = pd.read_csv(r\"stock_data\\stock_data.csv\")"
   ]
  },
  {
   "cell_type": "code",
   "execution_count": 8,
   "metadata": {},
   "outputs": [],
   "source": [
    "app.layout = html.Div([\n",
    "    html.H1(\"Stock Price Analysis Dashboard\", style={\"textAlign\": \"center\"}),\n",
    "\n",
    "    dcc.Tabs(id=\"tabs\", children=[\n",
    "        dcc.Tab(label='NSE-TATAGLOBAL Stock Data', children=[\n",
    "            html.Div([\n",
    "                html.H2(\"Actual closing price\", style={\"textAlign\": \"center\"}),\n",
    "                dcc.Graph(\n",
    "                    id=\"Actual Data\",\n",
    "                    figure={\n",
    "                        \"data\": [\n",
    "                            go.Scatter(\n",
    "                                x=train.index,\n",
    "                                y=valid[\"Close\"],\n",
    "                                mode='markers'\n",
    "                            )\n",
    "                        ],\n",
    "                        \"layout\": go.Layout(\n",
    "                            title='scatter plot',\n",
    "                            xaxis={'title': 'Date'},\n",
    "                            yaxis={'title': 'Closing Rate'}\n",
    "                        )\n",
    "                    }\n",
    "                ),\n",
    "                html.H2(\"LSTM Predicted closing price\", style={\"textAlign\": \"center\"}),\n",
    "                dcc.Graph(\n",
    "                    id=\"Predicted Data\",\n",
    "                    figure={\n",
    "                        \"data\": [\n",
    "                            go.Scatter(\n",
    "                                x=valid.index,\n",
    "                                y=valid[\"Predictions\"],\n",
    "                                mode='markers'\n",
    "                            )\n",
    "                        ],\n",
    "                        \"layout\": go.Layout(\n",
    "                            title='scatter plot',\n",
    "                            xaxis={'title': 'Date'},\n",
    "                            yaxis={'title': 'Closing Rate'}\n",
    "                        )\n",
    "                    }\n",
    "                )\n",
    "            ])\n",
    "        ]),\n",
    "        dcc.Tab(label='Facebook Stock Data', children=[\n",
    "            html.Div([\n",
    "                html.H1(\"Facebook Stocks High vs Lows\", style={'textAlign': 'center'}),\n",
    "                dcc.Dropdown(\n",
    "                    id='my-dropdown',\n",
    "                    options=[{'label': 'Tesla', 'value': 'TSLA'},\n",
    "                             {'label': 'Apple', 'value': 'AAPL'},\n",
    "                             {'label': 'Facebook', 'value': 'FB'},\n",
    "                             {'label': 'Microsoft', 'value': 'MSFT'}],\n",
    "                    multi=True, value=['FB'],\n",
    "                    style={\"display\": \"block\", \"margin-left\": \"auto\",\n",
    "                           \"margin-right\": \"auto\", \"width\": \"60%\"}\n",
    "                ),\n",
    "                dcc.Graph(id='highlow'),\n",
    "                html.H1(\"Facebook Market Volume\", style={'textAlign': 'center'}),\n",
    "                dcc.Dropdown(\n",
    "                    id='my-dropdown2',\n",
    "                    options=[{'label': 'Tesla', 'value': 'TSLA'},\n",
    "                             {'label': 'Apple', 'value': 'AAPL'},\n",
    "                             {'label': 'Facebook', 'value': 'FB'},\n",
    "                             {'label': 'Microsoft', 'value': 'MSFT'}],\n",
    "                    multi=True, value=['FB'],\n",
    "                    style={\"display\": \"block\", \"margin-left\": \"auto\",\n",
    "                           \"margin-right\": \"auto\", \"width\": \"60%\"}\n",
    "                ),\n",
    "                dcc.Graph(id='volume')\n",
    "            ], className=\"container\"),\n",
    "        ])\n",
    "    ])\n",
    "])\n"
   ]
  },
  {
   "cell_type": "code",
   "execution_count": 9,
   "metadata": {},
   "outputs": [],
   "source": [
    "@app.callback(Output('highlow', 'figure'),\n",
    "              [Input('my-dropdown', 'value')])\n",
    "def update_graph(selected_dropdown):\n",
    "    dropdown = {\"TSLA\": \"Tesla\", \"AAPL\": \"Apple\", \"FB\": \"Facebook\", \"MSFT\": \"Microsoft\"}\n",
    "    trace1 = []\n",
    "    trace2 = []\n",
    "    for stock in selected_dropdown:\n",
    "        trace1.append(\n",
    "            go.Scatter(x=df[df[\"Stock\"] == stock][\"Date\"],\n",
    "                       y=df[df[\"Stock\"] == stock][\"High\"],\n",
    "                       mode='lines', opacity=0.7,\n",
    "                       name=f'High {dropdown[stock]}', textposition='bottom center'))\n",
    "        trace2.append(\n",
    "            go.Scatter(x=df[df[\"Stock\"] == stock][\"Date\"],\n",
    "                       y=df[df[\"Stock\"] == stock][\"Low\"],\n",
    "                       mode='lines', opacity=0.6,\n",
    "                       name=f'Low {dropdown[stock]}', textposition='bottom center'))\n",
    "    traces = [trace1, trace2]\n",
    "    data = [val for sublist in traces for val in sublist]\n",
    "    figure = {'data': data,\n",
    "              'layout': go.Layout(\n",
    "                  colorway=[\"#5E0DAC\", '#FF4F00', '#375CB1', '#FF7400', '#FFF400', '#FF0056'],\n",
    "                  height=600,\n",
    "                  title=f\"High and Low Prices for {', '.join(str(dropdown[i]) for i in selected_dropdown)} Over Time\",\n",
    "                  xaxis={\"title\": \"Date\",\n",
    "                         'rangeselector': {'buttons': list([\n",
    "                             {'count': 1, 'label': '1M', 'step': 'month', 'stepmode': 'backward'},\n",
    "                             {'count': 6, 'label': '6M', 'step': 'month', 'stepmode': 'backward'},\n",
    "                             {'step': 'all'}])},\n",
    "                         'rangeslider': {'visible': True}, 'type': 'date'},\n",
    "                  yaxis={\"title\": \"Price (USD)\"})}\n",
    "    return figure\n"
   ]
  },
  {
   "cell_type": "code",
   "execution_count": 10,
   "metadata": {},
   "outputs": [],
   "source": [
    "@app.callback(Output('volume', 'figure'),\n",
    "              [Input('my-dropdown2', 'value')])\n",
    "def update_graph(selected_dropdown_value):\n",
    "    dropdown = {\"TSLA\": \"Tesla\", \"AAPL\": \"Apple\", \"FB\": \"Facebook\", \"MSFT\": \"Microsoft\"}\n",
    "    trace1 = []\n",
    "    for stock in selected_dropdown_value:\n",
    "        trace1.append(\n",
    "            go.Scatter(x=df[df[\"Stock\"] == stock][\"Date\"],\n",
    "                       y=df[df[\"Stock\"] == stock][\"Volume\"],\n",
    "                       mode='lines', opacity=0.7,\n",
    "                       name=f'Volume {dropdown[stock]}', textposition='bottom center'))\n",
    "    traces = [trace1]\n",
    "    data = [val for sublist in traces for val in sublist]\n",
    "    figure = {'data': data,\n",
    "              'layout': go.Layout(\n",
    "                  colorway=[\"#5E0DAC\", '#FF4F00', '#375CB1', '#FF7400', '#FFF400', '#FF0056'],\n",
    "                  height=600,\n",
    "                  title=f\"Market Volume for {', '.join(str(dropdown[i]) for i in selected_dropdown_value)} Over Time\",\n",
    "                  xaxis={\"title\": \"Date\",\n",
    "                         'rangeselector': {'buttons': list([\n",
    "                             {'count': 1, 'label': '1M', 'step': 'month', 'stepmode': 'backward'},\n",
    "                             {'count': 6, 'label': '6M', 'step': 'month', 'stepmode': 'backward'},\n",
    "                             {'step': 'all'}])},\n",
    "                         'rangeslider': {'visible': True}, 'type': 'date'},\n",
    "                  yaxis={\"title\": \"Transactions Volume\"})}\n",
    "    return figure\n"
   ]
  },
  {
   "cell_type": "code",
   "execution_count": 12,
   "metadata": {},
   "outputs": [
    {
     "data": {
      "text/html": [
       "\n",
       "        <iframe\n",
       "            width=\"100%\"\n",
       "            height=\"650\"\n",
       "            src=\"http://127.0.0.1:8050/\"\n",
       "            frameborder=\"0\"\n",
       "            allowfullscreen\n",
       "            \n",
       "        ></iframe>\n",
       "        "
      ],
      "text/plain": [
       "<IPython.lib.display.IFrame at 0x2322600d640>"
      ]
     },
     "metadata": {},
     "output_type": "display_data"
    }
   ],
   "source": [
    "if __name__=='__main__':\n",
    "    app.run_server(debug=True)"
   ]
  },
  {
   "cell_type": "code",
   "execution_count": null,
   "metadata": {},
   "outputs": [],
   "source": []
  }
 ],
 "metadata": {
  "kernelspec": {
   "display_name": "Python 3",
   "language": "python",
   "name": "python3"
  },
  "language_info": {
   "codemirror_mode": {
    "name": "ipython",
    "version": 3
   },
   "file_extension": ".py",
   "mimetype": "text/x-python",
   "name": "python",
   "nbconvert_exporter": "python",
   "pygments_lexer": "ipython3",
   "version": "3.12.0"
  }
 },
 "nbformat": 4,
 "nbformat_minor": 2
}
